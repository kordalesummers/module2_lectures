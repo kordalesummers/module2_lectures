{
  "nbformat": 4,
  "nbformat_minor": 0,
  "metadata": {
    "anaconda-cloud": {},
    "kernelspec": {
      "display_name": "Python 3",
      "language": "python",
      "name": "python3"
    },
    "language_info": {
      "codemirror_mode": {
        "name": "ipython",
        "version": 3
      },
      "file_extension": ".py",
      "mimetype": "text/x-python",
      "name": "python",
      "nbconvert_exporter": "python",
      "pygments_lexer": "ipython3",
      "version": "3.7.2"
    },
    "colab": {
      "name": "2_3_piping_with_comprehensions.ipynb",
      "provenance": [],
      "include_colab_link": true
    }
  },
  "cells": [
    {
      "cell_type": "markdown",
      "metadata": {
        "id": "view-in-github",
        "colab_type": "text"
      },
      "source": [
        "<a href=\"https://colab.research.google.com/github/kordalesummers/module2_lectures/blob/master/2_3_piping_with_comprehensions.ipynb\" target=\"_parent\"><img src=\"https://colab.research.google.com/assets/colab-badge.svg\" alt=\"Open In Colab\"/></a>"
      ]
    },
    {
      "cell_type": "markdown",
      "metadata": {
        "id": "OXhMLa_Dkq_h",
        "colab_type": "text"
      },
      "source": [
        "# Piping and List Comprehensions\n",
        "\n",
        "## Objectives\n",
        "\n",
        "1. Identify and use the basic structures of combinind list comprehensions and piping\n",
        "2. Learn about composing list comprehension lambdas"
      ]
    },
    {
      "cell_type": "markdown",
      "metadata": {
        "collapsed": true,
        "id": "9i7Qx3Gtkq_i",
        "colab_type": "text"
      },
      "source": [
        "## List Comprehension\n",
        "\n",
        "* Expression for constructing list\n",
        "* Returns a new list\n",
        "* Reads like math\n",
        "    * Set builder notation"
      ]
    },
    {
      "cell_type": "code",
      "metadata": {
        "id": "5IFNd3Vkkq_j",
        "colab_type": "code",
        "colab": {
          "base_uri": "https://localhost:8080/",
          "height": 34
        },
        "outputId": "78c4b711-946e-4991-cb25-171384cf287a"
      },
      "source": [
        "mylist = [1,2,3,4,5]\n",
        "yourlist = [item ** 2 for item in mylist]\n",
        "yourlist"
      ],
      "execution_count": 2,
      "outputs": [
        {
          "output_type": "execute_result",
          "data": {
            "text/plain": [
              "[1, 4, 9, 16, 25]"
            ]
          },
          "metadata": {
            "tags": []
          },
          "execution_count": 2
        }
      ]
    },
    {
      "cell_type": "markdown",
      "metadata": {
        "id": "fO9ary2qkq_n",
        "colab_type": "text"
      },
      "source": [
        "## Pipeable functions with comprehensions\n",
        "\n",
        "\n",
        "    \n",
        "<img src=\"https://github.com/kordalesummers/module2_lectures/blob/master/img/pipe_and_list_comp.png?raw=1\" width=600>"
      ]
    },
    {
      "cell_type": "markdown",
      "metadata": {
        "id": "bSwdb_IKkq_o",
        "colab_type": "text"
      },
      "source": [
        "## Splitting and processing string\n",
        "\n",
        "* Use `split` to cut a string into a list of strings\n",
        "* Use a comprehension to process the list."
      ]
    },
    {
      "cell_type": "code",
      "metadata": {
        "id": "Dp79wESCkq_v",
        "colab_type": "code",
        "colab": {
          "base_uri": "https://localhost:8080/",
          "height": 34
        },
        "outputId": "93886e28-6f9c-4204-8ce6-f14487f1ce8a"
      },
      "source": [
        "quote = \"Don't judge each day by the harvest you reap but by the seeds that you plant.\"\n",
        "words = quote.split(\" \")\n",
        "lengths =  [len(word) for word in words]\n",
        "mean = sum(lengths)/len(lengths)\n",
        "mean"
      ],
      "execution_count": 3,
      "outputs": [
        {
          "output_type": "execute_result",
          "data": {
            "text/plain": [
              "3.875"
            ]
          },
          "metadata": {
            "tags": []
          },
          "execution_count": 3
        }
      ]
    },
    {
      "cell_type": "code",
      "metadata": {
        "id": "mIwDNqFBlEr-",
        "colab_type": "code",
        "colab": {
          "base_uri": "https://localhost:8080/",
          "height": 136
        },
        "outputId": "09a19d3c-7773-4804-c449-62710a4b00de"
      },
      "source": [
        "!pip install composable"
      ],
      "execution_count": 4,
      "outputs": [
        {
          "output_type": "stream",
          "text": [
            "Collecting composable\n",
            "  Downloading https://files.pythonhosted.org/packages/d3/1a/87106d920e7533b86b7de59d4df02a36e7289618fbd51a5b837d090e1400/composable-0.1.3-py3-none-any.whl\n",
            "Requirement already satisfied: toolz<0.11.0,>=0.10.0 in /usr/local/lib/python3.6/dist-packages (from composable) (0.10.0)\n",
            "Collecting python-forge<19.0,>=18.6\n",
            "  Downloading https://files.pythonhosted.org/packages/41/d6/e9af8e22d153ebbf584833c1c96d590046f522ae2a86978d4efe496b4aac/python_forge-18.6.0-py35-none-any.whl\n",
            "Installing collected packages: python-forge, composable\n",
            "Successfully installed composable-0.1.3 python-forge-18.6.0\n"
          ],
          "name": "stdout"
        }
      ]
    },
    {
      "cell_type": "code",
      "metadata": {
        "id": "l33mtZe5kq_0",
        "colab_type": "code",
        "colab": {}
      },
      "source": [
        "from composable import pipeable"
      ],
      "execution_count": 5,
      "outputs": []
    },
    {
      "cell_type": "code",
      "metadata": {
        "id": "FJvQSNTbkq_5",
        "colab_type": "code",
        "colab": {}
      },
      "source": [
        "split = pipeable(lambda sep, s: s.split(sep))\n",
        "word_lengths = pipeable(lambda L: [len(word) for word in L])\n",
        "mean = pipeable(lambda L: sum(L)/len(L))"
      ],
      "execution_count": 6,
      "outputs": []
    },
    {
      "cell_type": "code",
      "metadata": {
        "id": "_7YJtMkbkq_9",
        "colab_type": "code",
        "colab": {
          "base_uri": "https://localhost:8080/",
          "height": 214
        },
        "outputId": "8c760387-e5db-4a9f-8059-38d6a7daee3b"
      },
      "source": [
        "(quote\n",
        " >> split(\" \")\n",
        " >> word_lengths\n",
        " >> mean\n",
        ")"
      ],
      "execution_count": 15,
      "outputs": [
        {
          "output_type": "error",
          "ename": "TypeError",
          "evalue": "ignored",
          "traceback": [
            "\u001b[0;31m---------------------------------------------------------------------------\u001b[0m",
            "\u001b[0;31mTypeError\u001b[0m                                 Traceback (most recent call last)",
            "\u001b[0;32m<ipython-input-15-3000547c7654>\u001b[0m in \u001b[0;36m<module>\u001b[0;34m()\u001b[0m\n\u001b[1;32m      2\u001b[0m  \u001b[0;34m>>\u001b[0m \u001b[0msplit\u001b[0m\u001b[0;34m(\u001b[0m\u001b[0;34m\" \"\u001b[0m\u001b[0;34m)\u001b[0m\u001b[0;34m\u001b[0m\u001b[0;34m\u001b[0m\u001b[0m\n\u001b[1;32m      3\u001b[0m  \u001b[0;34m>>\u001b[0m \u001b[0mword_lengths\u001b[0m\u001b[0;34m\u001b[0m\u001b[0;34m\u001b[0m\u001b[0m\n\u001b[0;32m----> 4\u001b[0;31m  \u001b[0;34m>>\u001b[0m \u001b[0mmean\u001b[0m\u001b[0;34m\u001b[0m\u001b[0;34m\u001b[0m\u001b[0m\n\u001b[0m\u001b[1;32m      5\u001b[0m )\n",
            "\u001b[0;31mTypeError\u001b[0m: unsupported operand type(s) for >>: 'list' and 'float'"
          ]
        }
      ]
    },
    {
      "cell_type": "markdown",
      "metadata": {
        "id": "YxPSKyAekrAB",
        "colab_type": "text"
      },
      "source": [
        "### <font color='red'> Exercise 1 </font>\n",
        "\n",
        "Use a pipe to take a quote, split it into words, and then grab the last two letter of each word.  **Hint:** Use the slice operation!  Package this process in a function called `first_two_char` and including appropriate doc string and text function."
      ]
    },
    {
      "cell_type": "code",
      "metadata": {
        "id": "abBkC2LGkrAB",
        "colab_type": "code",
        "colab": {}
      },
      "source": [
        "a = \"Hello banana\"\n",
        "split = pipeable(lambda sep, a: s.split(sep))\n",
        "first_two_char = pipeable(lambda a: a[1])\n"
      ],
      "execution_count": 82,
      "outputs": []
    },
    {
      "cell_type": "code",
      "metadata": {
        "id": "f92h9vaxp5GI",
        "colab_type": "code",
        "colab": {
          "base_uri": "https://localhost:8080/",
          "height": 35
        },
        "outputId": "a6a3dbff-d28e-41ed-a297-8c9b8593bcaf"
      },
      "source": [
        "(a\n",
        " >> split(\" \")\n",
        " >> first_two_char\n",
        " )"
      ],
      "execution_count": 83,
      "outputs": [
        {
          "output_type": "execute_result",
          "data": {
            "application/vnd.google.colaboratory.intrinsic+json": {
              "type": "string"
            },
            "text/plain": [
              "'banana'"
            ]
          },
          "metadata": {
            "tags": []
          },
          "execution_count": 83
        }
      ]
    },
    {
      "cell_type": "code",
      "metadata": {
        "id": "9tdqiHEbsCdA",
        "colab_type": "code",
        "colab": {
          "base_uri": "https://localhost:8080/",
          "height": 34
        },
        "outputId": "bbf85468-b0dc-48b3-ee12-9b23e4cb1639"
      },
      "source": [
        "type(a)"
      ],
      "execution_count": 27,
      "outputs": [
        {
          "output_type": "execute_result",
          "data": {
            "text/plain": [
              "str"
            ]
          },
          "metadata": {
            "tags": []
          },
          "execution_count": 27
        }
      ]
    },
    {
      "cell_type": "markdown",
      "metadata": {
        "id": "B0zkKR9UkrAF",
        "colab_type": "text"
      },
      "source": [
        "### <font color='red'> Exercise 2 </font>\n",
        "\n",
        "Notice that period at the end of the sentence.  It is probably safest to remove punctuation like periods, questions marks, and exclamation points.  Add a step to the pipe to remove these characters."
      ]
    },
    {
      "cell_type": "code",
      "metadata": {
        "id": "ZdaqMza1krAG",
        "colab_type": "code",
        "colab": {}
      },
      "source": [
        "f = \"Hell there.\"\n",
        "split = pipeable(lambda sep, f: s.split(sep))\n",
        "remove = pipeable(lambda sep, f: s.remove(sep))"
      ],
      "execution_count": 93,
      "outputs": []
    },
    {
      "cell_type": "code",
      "metadata": {
        "id": "vE8YhyWS-T31",
        "colab_type": "code",
        "colab": {
          "base_uri": "https://localhost:8080/",
          "height": 323
        },
        "outputId": "cec9ea89-80f6-4b5e-f3b0-f70d3c6b38ab"
      },
      "source": [
        "(f\n",
        " >> split(\" \")\n",
        " >> remove(\".\")\n",
        " )"
      ],
      "execution_count": 92,
      "outputs": [
        {
          "output_type": "error",
          "ename": "AttributeError",
          "evalue": "ignored",
          "traceback": [
            "\u001b[0;31m---------------------------------------------------------------------------\u001b[0m",
            "\u001b[0;31mAttributeError\u001b[0m                            Traceback (most recent call last)",
            "\u001b[0;32m<ipython-input-92-aa9427183e23>\u001b[0m in \u001b[0;36m<module>\u001b[0;34m()\u001b[0m\n\u001b[1;32m      1\u001b[0m (f\n\u001b[1;32m      2\u001b[0m  \u001b[0;34m>>\u001b[0m \u001b[0msplit\u001b[0m\u001b[0;34m(\u001b[0m\u001b[0;34m\" \"\u001b[0m\u001b[0;34m)\u001b[0m\u001b[0;34m\u001b[0m\u001b[0;34m\u001b[0m\u001b[0m\n\u001b[0;32m----> 3\u001b[0;31m  \u001b[0;34m>>\u001b[0m \u001b[0mremove\u001b[0m\u001b[0;34m(\u001b[0m\u001b[0;34m\".\"\u001b[0m\u001b[0;34m)\u001b[0m\u001b[0;34m\u001b[0m\u001b[0;34m\u001b[0m\u001b[0m\n\u001b[0m\u001b[1;32m      4\u001b[0m  )\n",
            "\u001b[0;32m/usr/local/lib/python3.6/dist-packages/composable/pipeable.py\u001b[0m in \u001b[0;36m__rrshift__\u001b[0;34m(self, other)\u001b[0m\n\u001b[1;32m     18\u001b[0m         \u001b[0mNote\u001b[0m \u001b[0mthat\u001b[0m \u001b[0mthis\u001b[0m \u001b[0mform\u001b[0m \u001b[0;32mor\u001b[0m \u001b[0mpiping\u001b[0m \u001b[0massumes\u001b[0m \u001b[0ma\u001b[0m \u001b[0munary\u001b[0m \u001b[0mfunction\u001b[0m \u001b[0mcall\u001b[0m\u001b[0;34m.\u001b[0m\u001b[0;34m\u001b[0m\u001b[0;34m\u001b[0m\u001b[0m\n\u001b[1;32m     19\u001b[0m         Use a curried function to allow piping n-ary functions.\"\"\"\n\u001b[0;32m---> 20\u001b[0;31m         \u001b[0;32mreturn\u001b[0m \u001b[0mself\u001b[0m\u001b[0;34m.\u001b[0m\u001b[0m__call__\u001b[0m\u001b[0;34m(\u001b[0m\u001b[0mother\u001b[0m\u001b[0;34m)\u001b[0m\u001b[0;34m\u001b[0m\u001b[0;34m\u001b[0m\u001b[0m\n\u001b[0m\u001b[1;32m     21\u001b[0m \u001b[0;34m\u001b[0m\u001b[0m\n\u001b[1;32m     22\u001b[0m \u001b[0;34m\u001b[0m\u001b[0m\n",
            "\u001b[0;32m/usr/local/lib/python3.6/dist-packages/toolz/functoolz.py\u001b[0m in \u001b[0;36m__call__\u001b[0;34m(self, *args, **kwargs)\u001b[0m\n\u001b[1;32m    301\u001b[0m     \u001b[0;32mdef\u001b[0m \u001b[0m__call__\u001b[0m\u001b[0;34m(\u001b[0m\u001b[0mself\u001b[0m\u001b[0;34m,\u001b[0m \u001b[0;34m*\u001b[0m\u001b[0margs\u001b[0m\u001b[0;34m,\u001b[0m \u001b[0;34m**\u001b[0m\u001b[0mkwargs\u001b[0m\u001b[0;34m)\u001b[0m\u001b[0;34m:\u001b[0m\u001b[0;34m\u001b[0m\u001b[0;34m\u001b[0m\u001b[0m\n\u001b[1;32m    302\u001b[0m         \u001b[0;32mtry\u001b[0m\u001b[0;34m:\u001b[0m\u001b[0;34m\u001b[0m\u001b[0;34m\u001b[0m\u001b[0m\n\u001b[0;32m--> 303\u001b[0;31m             \u001b[0;32mreturn\u001b[0m \u001b[0mself\u001b[0m\u001b[0;34m.\u001b[0m\u001b[0m_partial\u001b[0m\u001b[0;34m(\u001b[0m\u001b[0;34m*\u001b[0m\u001b[0margs\u001b[0m\u001b[0;34m,\u001b[0m \u001b[0;34m**\u001b[0m\u001b[0mkwargs\u001b[0m\u001b[0;34m)\u001b[0m\u001b[0;34m\u001b[0m\u001b[0;34m\u001b[0m\u001b[0m\n\u001b[0m\u001b[1;32m    304\u001b[0m         \u001b[0;32mexcept\u001b[0m \u001b[0mTypeError\u001b[0m \u001b[0;32mas\u001b[0m \u001b[0mexc\u001b[0m\u001b[0;34m:\u001b[0m\u001b[0;34m\u001b[0m\u001b[0;34m\u001b[0m\u001b[0m\n\u001b[1;32m    305\u001b[0m             \u001b[0;32mif\u001b[0m \u001b[0mself\u001b[0m\u001b[0;34m.\u001b[0m\u001b[0m_should_curry\u001b[0m\u001b[0;34m(\u001b[0m\u001b[0margs\u001b[0m\u001b[0;34m,\u001b[0m \u001b[0mkwargs\u001b[0m\u001b[0;34m,\u001b[0m \u001b[0mexc\u001b[0m\u001b[0;34m)\u001b[0m\u001b[0;34m:\u001b[0m\u001b[0;34m\u001b[0m\u001b[0;34m\u001b[0m\u001b[0m\n",
            "\u001b[0;32m<ipython-input-90-169dd16619d3>\u001b[0m in \u001b[0;36m<lambda>\u001b[0;34m(sep, f)\u001b[0m\n\u001b[1;32m      1\u001b[0m \u001b[0mf\u001b[0m \u001b[0;34m=\u001b[0m \u001b[0;34m\"Hell there.\"\u001b[0m\u001b[0;34m\u001b[0m\u001b[0;34m\u001b[0m\u001b[0m\n\u001b[1;32m      2\u001b[0m \u001b[0msplit\u001b[0m \u001b[0;34m=\u001b[0m \u001b[0mpipeable\u001b[0m\u001b[0;34m(\u001b[0m\u001b[0;32mlambda\u001b[0m \u001b[0msep\u001b[0m\u001b[0;34m,\u001b[0m \u001b[0mf\u001b[0m\u001b[0;34m:\u001b[0m \u001b[0ms\u001b[0m\u001b[0;34m.\u001b[0m\u001b[0msplit\u001b[0m\u001b[0;34m(\u001b[0m\u001b[0msep\u001b[0m\u001b[0;34m)\u001b[0m\u001b[0;34m)\u001b[0m\u001b[0;34m\u001b[0m\u001b[0;34m\u001b[0m\u001b[0m\n\u001b[0;32m----> 3\u001b[0;31m \u001b[0mremove\u001b[0m \u001b[0;34m=\u001b[0m \u001b[0mpipeable\u001b[0m\u001b[0;34m(\u001b[0m\u001b[0;32mlambda\u001b[0m \u001b[0msep\u001b[0m\u001b[0;34m,\u001b[0m \u001b[0mf\u001b[0m\u001b[0;34m:\u001b[0m \u001b[0ms\u001b[0m\u001b[0;34m.\u001b[0m\u001b[0mremove\u001b[0m\u001b[0;34m(\u001b[0m\u001b[0msep\u001b[0m\u001b[0;34m)\u001b[0m\u001b[0;34m)\u001b[0m\u001b[0;34m\u001b[0m\u001b[0;34m\u001b[0m\u001b[0m\n\u001b[0m",
            "\u001b[0;31mAttributeError\u001b[0m: 'str' object has no attribute 'remove'"
          ]
        }
      ]
    },
    {
      "cell_type": "markdown",
      "metadata": {
        "id": "m9fxThGBkrAL",
        "colab_type": "text"
      },
      "source": [
        "## (Ab)Using tuples in sequence processing.\n",
        "\n",
        "* Sometimes it is useful to hold mulitple pieces of information at once.\n",
        "    * Example *Keep all of the even length words* needs both length and the words themselves.\n",
        "* In this case we will use a list of tuples to aid the computation."
      ]
    },
    {
      "cell_type": "markdown",
      "metadata": {
        "id": "BsoAQ1z0krAL",
        "colab_type": "text"
      },
      "source": [
        "## Example: Take a quote and only keep the even length word."
      ]
    },
    {
      "cell_type": "markdown",
      "metadata": {
        "id": "sNYU_DLXkrAM",
        "colab_type": "text"
      },
      "source": [
        "#### Step 1 -- Get both words and lengths"
      ]
    },
    {
      "cell_type": "code",
      "metadata": {
        "id": "55WaHjpqkrAN",
        "colab_type": "code",
        "colab": {}
      },
      "source": [
        "lengths_and_words = pipeable(lambda L: [(w, len(w)) for w in L ])\n",
        "take = pipeable(lambda num, L: L[:num])"
      ],
      "execution_count": 7,
      "outputs": []
    },
    {
      "cell_type": "code",
      "metadata": {
        "id": "3uUZvoURkrAS",
        "colab_type": "code",
        "colab": {
          "base_uri": "https://localhost:8080/",
          "height": 34
        },
        "outputId": "fa04ba2a-626c-41c6-cd6b-6c17c112eb1b"
      },
      "source": [
        "(quote\n",
        " >> split(\" \")\n",
        " >> lengths_and_words\n",
        " >> take(2)\n",
        ")"
      ],
      "execution_count": 18,
      "outputs": [
        {
          "output_type": "execute_result",
          "data": {
            "text/plain": [
              "[(\"Don't\", 5), ('judge', 5)]"
            ]
          },
          "metadata": {
            "tags": []
          },
          "execution_count": 18
        }
      ]
    },
    {
      "cell_type": "markdown",
      "metadata": {
        "id": "MAJpJlC-krAX",
        "colab_type": "text"
      },
      "source": [
        "#### Step 2 -- Filter based on length"
      ]
    },
    {
      "cell_type": "code",
      "metadata": {
        "id": "gE4TshCokrAY",
        "colab_type": "code",
        "colab": {}
      },
      "source": [
        "is_even = lambda num: num % 2 == 0\n",
        "keep_even_lengths = pipeable(lambda tups: [w for w, length in tups if is_even(length)])"
      ],
      "execution_count": 8,
      "outputs": []
    },
    {
      "cell_type": "code",
      "metadata": {
        "id": "wplkMiOjkrAe",
        "colab_type": "code",
        "colab": {
          "base_uri": "https://localhost:8080/",
          "height": 34
        },
        "outputId": "17a7a388-8b4e-43f5-9fc4-dc286bd002af"
      },
      "source": [
        "(quote\n",
        " >> split(\" \")\n",
        " >> lengths_and_words\n",
        " >> keep_even_lengths\n",
        ")"
      ],
      "execution_count": 9,
      "outputs": [
        {
          "output_type": "execute_result",
          "data": {
            "text/plain": [
              "['each', 'by', 'reap', 'by', 'that', 'plant.']"
            ]
          },
          "metadata": {
            "tags": []
          },
          "execution_count": 9
        }
      ]
    },
    {
      "cell_type": "markdown",
      "metadata": {
        "id": "lg3sIGQRkrAj",
        "colab_type": "text"
      },
      "source": [
        "## <font color=\"red\"> TODO Add a image of what is happening here </font>"
      ]
    },
    {
      "cell_type": "markdown",
      "metadata": {
        "id": "rxD8BEgdkrAk",
        "colab_type": "text"
      },
      "source": [
        "### <font color='red'> Exercise 3 </font>\n",
        "\n",
        "Use a pipe to take a quote, split it into words, and then keeps all words that have at least 4 characters.  **Hint:** Use the `lengths_and_words` function! Package this process in a function called `at_least_4_char` and including appropriate doc string and text function."
      ]
    },
    {
      "cell_type": "code",
      "metadata": {
        "id": "TrfyFnkOiRIL",
        "colab_type": "code",
        "colab": {}
      },
      "source": [
        "is_four = lambda num: num == 4\n",
        "at_least_4_char = pipeable(lambda tups: [w for w, length in tups if is_four(length)] )"
      ],
      "execution_count": 11,
      "outputs": []
    },
    {
      "cell_type": "code",
      "metadata": {
        "id": "7_GObar3krAk",
        "colab_type": "code",
        "colab": {
          "base_uri": "https://localhost:8080/",
          "height": 34
        },
        "outputId": "b5cc12b2-74d2-44f8-bc98-d2b699193ca5"
      },
      "source": [
        "(quote\n",
        " >> split(\" \")\n",
        " >> lengths_and_words\n",
        " >> at_least_4_char\n",
        ")"
      ],
      "execution_count": 13,
      "outputs": [
        {
          "output_type": "execute_result",
          "data": {
            "text/plain": [
              "['each', 'reap', 'that']"
            ]
          },
          "metadata": {
            "tags": []
          },
          "execution_count": 13
        }
      ]
    },
    {
      "cell_type": "markdown",
      "metadata": {
        "id": "Wk_nZhX0krAn",
        "colab_type": "text"
      },
      "source": [
        "<h2> <font color=\"red\"> TODO Add a section on refactoring compositions of comprehensions </font>"
      ]
    }
  ]
}