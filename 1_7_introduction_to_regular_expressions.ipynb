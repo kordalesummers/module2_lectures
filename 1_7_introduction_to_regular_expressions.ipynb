{
  "nbformat": 4,
  "nbformat_minor": 0,
  "metadata": {
    "celltoolbar": "Slideshow",
    "kernelspec": {
      "display_name": "Python 3",
      "language": "python",
      "name": "python3"
    },
    "language_info": {
      "codemirror_mode": {
        "name": "ipython",
        "version": 3
      },
      "file_extension": ".py",
      "mimetype": "text/x-python",
      "name": "python",
      "nbconvert_exporter": "python",
      "pygments_lexer": "ipython3",
      "version": "3.7.2"
    },
    "varInspector": {
      "cols": {
        "lenName": 16,
        "lenType": 16,
        "lenVar": 40
      },
      "kernels_config": {
        "python": {
          "delete_cmd_postfix": "",
          "delete_cmd_prefix": "del ",
          "library": "var_list.py",
          "varRefreshCmd": "print(var_dic_list())"
        },
        "r": {
          "delete_cmd_postfix": ") ",
          "delete_cmd_prefix": "rm(",
          "library": "var_list.r",
          "varRefreshCmd": "cat(var_dic_list()) "
        }
      },
      "types_to_exclude": [
        "module",
        "function",
        "builtin_function_or_method",
        "instance",
        "_Feature"
      ],
      "window_display": false
    },
    "colab": {
      "name": "1_7_introduction_to_regular_expressions.ipynb",
      "provenance": [],
      "include_colab_link": true
    }
  },
  "cells": [
    {
      "cell_type": "markdown",
      "metadata": {
        "id": "view-in-github",
        "colab_type": "text"
      },
      "source": [
        "<a href=\"https://colab.research.google.com/github/kordalesummers/module2_lectures/blob/master/1_7_introduction_to_regular_expressions.ipynb\" target=\"_parent\"><img src=\"https://colab.research.google.com/assets/colab-badge.svg\" alt=\"Open In Colab\"/></a>"
      ]
    },
    {
      "cell_type": "markdown",
      "metadata": {
        "id": "jdq2zNOvwpmB",
        "colab_type": "text"
      },
      "source": [
        "## Regular Expressions\n",
        "\n",
        "<img src=\"https://imgs.xkcd.com/comics/regular_expressions.png \" width=400>"
      ]
    },
    {
      "cell_type": "markdown",
      "metadata": {
        "id": "sZz65df6wpmF",
        "colab_type": "text"
      },
      "source": [
        "## RegEx Golf\n",
        "\n",
        "<img src=\"https://imgs.xkcd.com/comics/regex_golf.png\" width=600>"
      ]
    },
    {
      "cell_type": "markdown",
      "metadata": {
        "id": "Tsovw5jWwpmG",
        "colab_type": "text"
      },
      "source": [
        "## Perl Problems\n",
        "\n",
        "    Some people, when confronted with a problem, think \"I know, I'll use regular expressions.\" Now they have two problems. - Jamie Zawinski \n",
        "<img src=\"https://imgs.xkcd.com/comics/perl_problems.png\" width=600>"
      ]
    },
    {
      "cell_type": "markdown",
      "metadata": {
        "id": "hkTuVjrSwpmG",
        "colab_type": "text"
      },
      "source": [
        "## <font color=\"red\"> Exercise 1 </font>\n",
        "\n",
        "**Question:** What do all of these strings have in common?\n",
        "\n",
        "* `\"ab\"`\n",
        "* `\"abab\"`\n",
        "* `\"ababcde\"`\n",
        "* `\"abcde\"`"
      ]
    },
    {
      "cell_type": "markdown",
      "metadata": {
        "id": "T4xj8Qy7wpmH",
        "colab_type": "text"
      },
      "source": [
        "> Your answer here"
      ]
    },
    {
      "cell_type": "markdown",
      "metadata": {
        "id": "sfNE1DoPwpmI",
        "colab_type": "text"
      },
      "source": [
        "## <font color=\"red\"> Exercise 2 </font>\n",
        "\n",
        "**Task:** Predict the next three elements of the sequence.\n",
        "\n",
        "* `\"0\"`\n",
        "* `\"1ab\"`\n",
        "* `\"2abab\"`\n",
        "* `\"3ababab\"`\n"
      ]
    },
    {
      "cell_type": "markdown",
      "metadata": {
        "id": "YYjLLXR3wpmI",
        "colab_type": "text"
      },
      "source": [
        "> Your answer here"
      ]
    },
    {
      "cell_type": "markdown",
      "metadata": {
        "id": "MQy6-PTwwpmJ",
        "colab_type": "text"
      },
      "source": [
        "## What is a regular expression\n",
        "\n",
        "* Language for matching regular patterns\n",
        "    * `\"ab\"`\n",
        "    * `\"abab\"`\n",
        "    * `\"ababcde\"`\n",
        "    * `\"abcde\"`\n",
        "* Can't match other, context sensitive, patterns\n",
        "    * `\"0\"`\n",
        "    * `\"1ab\"`\n",
        "    * `\"2abab\"`\n",
        "    * `\"3ababab\"`"
      ]
    },
    {
      "cell_type": "markdown",
      "metadata": {
        "id": "2ncnJV7vwpmK",
        "colab_type": "text"
      },
      "source": [
        "## <font color=\"red\"> Exercise 3 </font>\n",
        "\n",
        "**Tasks:** \n",
        "\n",
        "1. Go to [RegexOne](https://regexone.com/)\n",
        "2. Read the first section\n",
        "3. Define a pattern that matches the first three strings."
      ]
    },
    {
      "cell_type": "code",
      "metadata": {
        "id": "xGZwLHIbwpmL",
        "colab_type": "code",
        "colab": {}
      },
      "source": [
        "pattern1 = \"abc\""
      ],
      "execution_count": 3,
      "outputs": []
    },
    {
      "cell_type": "markdown",
      "metadata": {
        "id": "AD0CAjsxwpmQ",
        "colab_type": "text"
      },
      "source": [
        "## Regular Expressions Workflow in Python\n",
        "\n",
        "* `import re`\n",
        "* Compile a pattern `regex = re.compile(pattern)`\n",
        "    * Use `r\"pattern\"` to avoid escaping symbols\n",
        "* `m = regex.match(some_string)`"
      ]
    },
    {
      "cell_type": "code",
      "metadata": {
        "id": "codpQ8N7wpmR",
        "colab_type": "code",
        "colab": {}
      },
      "source": [
        "import re"
      ],
      "execution_count": 6,
      "outputs": []
    },
    {
      "cell_type": "code",
      "metadata": {
        "id": "lOcuruKjwpmV",
        "colab_type": "code",
        "colab": {},
        "outputId": "6d9e9b48-47c1-4826-dcd8-f45b38ecac1b"
      },
      "source": [
        "pattern = r\"ab\" # r is for raw\n",
        "regex = re.compile(pattern)\n",
        "m1 = regex.match('abc')\n",
        "m1"
      ],
      "execution_count": null,
      "outputs": [
        {
          "output_type": "execute_result",
          "data": {
            "text/plain": [
              "<re.Match object; span=(0, 2), match='ab'>"
            ]
          },
          "metadata": {
            "tags": []
          },
          "execution_count": 2
        }
      ]
    },
    {
      "cell_type": "markdown",
      "metadata": {
        "id": "imOOcy8Kwpma",
        "colab_type": "text"
      },
      "source": [
        "## `match` returns `None` when there is no match"
      ]
    },
    {
      "cell_type": "code",
      "metadata": {
        "id": "GGkDM-qmwpmb",
        "colab_type": "code",
        "colab": {}
      },
      "source": [
        "m2 = regex.match('acb')\n",
        "m2"
      ],
      "execution_count": null,
      "outputs": []
    },
    {
      "cell_type": "code",
      "metadata": {
        "id": "nctcJ7YAwpmf",
        "colab_type": "code",
        "colab": {},
        "outputId": "bbb238c7-e1e2-46b7-b09b-789fc1907f8a"
      },
      "source": [
        "m2 is None"
      ],
      "execution_count": null,
      "outputs": [
        {
          "output_type": "execute_result",
          "data": {
            "text/plain": [
              "True"
            ]
          },
          "metadata": {
            "tags": []
          },
          "execution_count": 4
        }
      ]
    },
    {
      "cell_type": "code",
      "metadata": {
        "id": "tA5PcPhmwpmj",
        "colab_type": "code",
        "colab": {},
        "outputId": "186f2443-36fa-4921-b740-52eaf6f56315"
      },
      "source": [
        "not m2 "
      ],
      "execution_count": null,
      "outputs": [
        {
          "output_type": "execute_result",
          "data": {
            "text/plain": [
              "True"
            ]
          },
          "metadata": {
            "tags": []
          },
          "execution_count": 5
        }
      ]
    },
    {
      "cell_type": "markdown",
      "metadata": {
        "id": "RovCYTLowpmn",
        "colab_type": "text"
      },
      "source": [
        "## The result of a match can be used in Boolean expressions"
      ]
    },
    {
      "cell_type": "code",
      "metadata": {
        "id": "m2SWYGXKwpmn",
        "colab_type": "code",
        "colab": {},
        "outputId": "27866ac0-4a8e-4a8f-8f95-ac0b8e6cc268"
      },
      "source": [
        "\"Yes\" if m1 else \"No\""
      ],
      "execution_count": null,
      "outputs": [
        {
          "output_type": "execute_result",
          "data": {
            "text/plain": [
              "'Yes'"
            ]
          },
          "metadata": {
            "tags": []
          },
          "execution_count": 10
        }
      ]
    },
    {
      "cell_type": "code",
      "metadata": {
        "id": "BkB-C5exwpmr",
        "colab_type": "code",
        "colab": {},
        "outputId": "63d5683d-0614-44ab-98cc-f3c35608b58e"
      },
      "source": [
        "\"Yes\" if m2 else \"No\""
      ],
      "execution_count": null,
      "outputs": [
        {
          "output_type": "execute_result",
          "data": {
            "text/plain": [
              "'No'"
            ]
          },
          "metadata": {
            "tags": []
          },
          "execution_count": 11
        }
      ]
    },
    {
      "cell_type": "markdown",
      "metadata": {
        "id": "o90oTLWHwpmu",
        "colab_type": "text"
      },
      "source": [
        "## <font color=\"red\"> Exercise 4 </font>\n",
        "\n",
        "**Tasks:** Make sure your pattern from <font color=\"red\"> Exercise 3</font> passes the following `assert` statements."
      ]
    },
    {
      "cell_type": "code",
      "metadata": {
        "id": "PJ8lNqyBwpmv",
        "colab_type": "code",
        "colab": {}
      },
      "source": [
        "pattern1 = \"abc\"\n",
        "my_regex = re.compile(pattern1)\n",
        "assert my_regex.match('abcdefg')\n",
        "assert my_regex.match('abcde')\n",
        "assert my_regex.match('abc')\n",
        "assert not my_regex.match('acb')"
      ],
      "execution_count": 8,
      "outputs": []
    },
    {
      "cell_type": "markdown",
      "metadata": {
        "id": "MKcLJXm4wpmz",
        "colab_type": "text"
      },
      "source": [
        "## Whitespace and escaped characters\n",
        "\n",
        "* Whitespace includes spaces, tabs, and newlines\n",
        "* Python uses escape characters: `\"\\t\"`, `\"\\n\"`"
      ]
    },
    {
      "cell_type": "markdown",
      "metadata": {
        "id": "o4Dop_sowpm0",
        "colab_type": "text"
      },
      "source": [
        "#### Use `\"\\n\"` for newlines"
      ]
    },
    {
      "cell_type": "code",
      "metadata": {
        "id": "Yf9IaZKjwpm1",
        "colab_type": "code",
        "colab": {},
        "outputId": "15008c71-f9ef-4595-ac68-b6c7078384b2"
      },
      "source": [
        "\"\\n\""
      ],
      "execution_count": null,
      "outputs": [
        {
          "output_type": "execute_result",
          "data": {
            "text/plain": [
              "'\\n'"
            ]
          },
          "metadata": {
            "tags": []
          },
          "execution_count": 7
        }
      ]
    },
    {
      "cell_type": "code",
      "metadata": {
        "id": "TRG64Qr2wpm4",
        "colab_type": "code",
        "colab": {},
        "outputId": "8533313c-5689-461a-88dc-16ce11be2cf8"
      },
      "source": [
        "print('\\n')"
      ],
      "execution_count": null,
      "outputs": [
        {
          "output_type": "stream",
          "text": [
            "\n",
            "\n"
          ],
          "name": "stdout"
        }
      ]
    },
    {
      "cell_type": "code",
      "metadata": {
        "id": "xFVlT82Hwpm7",
        "colab_type": "code",
        "colab": {},
        "outputId": "f502669e-8506-4df8-9eef-7fb7c5e97696"
      },
      "source": [
        "print('a\\nb')"
      ],
      "execution_count": null,
      "outputs": [
        {
          "output_type": "stream",
          "text": [
            "a\n",
            "b\n"
          ],
          "name": "stdout"
        }
      ]
    },
    {
      "cell_type": "markdown",
      "metadata": {
        "id": "-jyovgH_wpnA",
        "colab_type": "text"
      },
      "source": [
        "#### Use `\"\\t\"` for tab"
      ]
    },
    {
      "cell_type": "code",
      "metadata": {
        "id": "xMwwXJ5KwpnA",
        "colab_type": "code",
        "colab": {},
        "outputId": "bb878599-5de4-46b7-8abe-fbfc418850b1"
      },
      "source": [
        "\"\\t\""
      ],
      "execution_count": null,
      "outputs": [
        {
          "output_type": "execute_result",
          "data": {
            "text/plain": [
              "'\\t'"
            ]
          },
          "metadata": {
            "tags": []
          },
          "execution_count": 14
        }
      ]
    },
    {
      "cell_type": "code",
      "metadata": {
        "id": "Gu48Hn35wpnH",
        "colab_type": "code",
        "colab": {},
        "outputId": "d47cf4cd-42ac-4318-ea91-617ee50d9176"
      },
      "source": [
        "print('\\t')"
      ],
      "execution_count": null,
      "outputs": [
        {
          "output_type": "stream",
          "text": [
            "\t\n"
          ],
          "name": "stdout"
        }
      ]
    },
    {
      "cell_type": "code",
      "metadata": {
        "id": "wOMPlf_BwpnK",
        "colab_type": "code",
        "colab": {},
        "outputId": "f5f7345b-8a94-49e3-c109-549ac3164a48"
      },
      "source": [
        "print('a\\tb')"
      ],
      "execution_count": null,
      "outputs": [
        {
          "output_type": "stream",
          "text": [
            "a\tb\n"
          ],
          "name": "stdout"
        }
      ]
    },
    {
      "cell_type": "markdown",
      "metadata": {
        "id": "ALM7AqQZwpnO",
        "colab_type": "text"
      },
      "source": [
        "## Why use `r\"raw strings\"` in `regex`\n",
        "\n",
        "* Regular strings $\\rightarrow$ `\\` is for special characters: `'\\n'`, `'\\t'`\n",
        "* In regular expressions, `\\` is for\n",
        "    * Escaping: i.e. `\\.` vs. `.`\n",
        "* Without raw string, we would need \n",
        "    * `'\\\\n'`  to match a new line\n",
        "    * `'\\\\t'` to match a tab"
      ]
    },
    {
      "cell_type": "code",
      "metadata": {
        "id": "zNnmwGQNwpnO",
        "colab_type": "code",
        "colab": {},
        "outputId": "d2f046de-ef6d-47c2-df2f-c773f7ab1a07"
      },
      "source": [
        "r\"\\n\" # Raw string allow us to match newlines without the extra \\"
      ],
      "execution_count": null,
      "outputs": [
        {
          "output_type": "execute_result",
          "data": {
            "text/plain": [
              "'\\\\n'"
            ]
          },
          "metadata": {
            "tags": []
          },
          "execution_count": 1
        }
      ]
    },
    {
      "cell_type": "markdown",
      "metadata": {
        "id": "nmi6-BxvwpnS",
        "colab_type": "text"
      },
      "source": [
        "## Important `match object` methods\n",
        "\n",
        "<table class=\"docutils\" border=\"1\">\n",
        "<colgroup>\n",
        "<col width=\"29%\">\n",
        "<col width=\"71%\">\n",
        "</colgroup>\n",
        "<thead valign=\"bottom\">\n",
        "<tr class=\"row-odd\"><th class=\"head\">Method/Attribute</th>\n",
        "<th class=\"head\">Purpose</th>\n",
        "</tr>\n",
        "</thead>\n",
        "<tbody valign=\"top\">\n",
        "<tr class=\"row-even\"><td><code class=\"docutils literal notranslate\"><span class=\"pre\">group()</span></code></td>\n",
        "<td>Return the string matched by the RE</td>\n",
        "</tr>\n",
        "<tr class=\"row-odd\"><td><code class=\"docutils literal notranslate\"><span class=\"pre\">start()</span></code></td>\n",
        "<td>Return the starting position of the match</td>\n",
        "</tr>\n",
        "<tr class=\"row-even\"><td><code class=\"docutils literal notranslate\"><span class=\"pre\">end()</span></code></td>\n",
        "<td>Return the ending position of the match</td>\n",
        "</tr>\n",
        "<tr class=\"row-odd\"><td><code class=\"docutils literal notranslate\"><span class=\"pre\">span()</span></code></td>\n",
        "<td>Return a tuple containing the (start, end)\n",
        "positions  of the match</td>\n",
        "</tr>\n",
        "</tbody>\n",
        "</table>"
      ]
    },
    {
      "cell_type": "code",
      "metadata": {
        "id": "bzae605WwpnT",
        "colab_type": "code",
        "colab": {},
        "outputId": "ffc6a2d7-125e-46e7-eb6e-7ff7278fd9f7"
      },
      "source": [
        "m1.group()"
      ],
      "execution_count": null,
      "outputs": [
        {
          "output_type": "execute_result",
          "data": {
            "text/plain": [
              "'ab'"
            ]
          },
          "metadata": {
            "tags": []
          },
          "execution_count": 74
        }
      ]
    },
    {
      "cell_type": "code",
      "metadata": {
        "id": "a5v7mMBXwpnX",
        "colab_type": "code",
        "colab": {},
        "outputId": "7545ba69-b3f9-4640-8c19-50a3d34df3ae"
      },
      "source": [
        "m1.start(), m.end()"
      ],
      "execution_count": null,
      "outputs": [
        {
          "output_type": "execute_result",
          "data": {
            "text/plain": [
              "(0, 2)"
            ]
          },
          "metadata": {
            "tags": []
          },
          "execution_count": 75
        }
      ]
    },
    {
      "cell_type": "code",
      "metadata": {
        "id": "IHXYcb3swpna",
        "colab_type": "code",
        "colab": {},
        "outputId": "92998179-342f-42f1-c3ac-62f256b60daf"
      },
      "source": [
        "m1.span()"
      ],
      "execution_count": null,
      "outputs": [
        {
          "output_type": "execute_result",
          "data": {
            "text/plain": [
              "(0, 2)"
            ]
          },
          "metadata": {
            "tags": []
          },
          "execution_count": 80
        }
      ]
    },
    {
      "cell_type": "markdown",
      "metadata": {
        "id": "E91g6nOZwpnd",
        "colab_type": "text"
      },
      "source": [
        "## Be sure to check for `None`"
      ]
    },
    {
      "cell_type": "code",
      "metadata": {
        "id": "2jP0NLtzwpnd",
        "colab_type": "code",
        "colab": {}
      },
      "source": [
        "m2 # example that DIDN'T match "
      ],
      "execution_count": null,
      "outputs": []
    },
    {
      "cell_type": "code",
      "metadata": {
        "id": "3CA4dCr0wpng",
        "colab_type": "code",
        "colab": {},
        "outputId": "4c4cb2f7-bf67-4a71-9d40-3fae056bf8ce"
      },
      "source": [
        "m2 is None # non-matches return None"
      ],
      "execution_count": null,
      "outputs": [
        {
          "output_type": "execute_result",
          "data": {
            "text/plain": [
              "True"
            ]
          },
          "metadata": {
            "tags": []
          },
          "execution_count": 18
        }
      ]
    },
    {
      "cell_type": "code",
      "metadata": {
        "id": "g_jk_Uyowpnk",
        "colab_type": "code",
        "colab": {},
        "outputId": "e29e3d47-2908-4dec-ffad-a1d21111de2f"
      },
      "source": [
        "m2.group() # Oh you silly 'Nonetype' errors"
      ],
      "execution_count": null,
      "outputs": [
        {
          "output_type": "error",
          "ename": "AttributeError",
          "evalue": "'NoneType' object has no attribute 'group'",
          "traceback": [
            "\u001b[0;31m---------------------------------------------------------------------------\u001b[0m",
            "\u001b[0;31mAttributeError\u001b[0m                            Traceback (most recent call last)",
            "\u001b[0;32m<ipython-input-21-0951bace4a25>\u001b[0m in \u001b[0;36m<module>\u001b[0;34m()\u001b[0m\n\u001b[0;32m----> 1\u001b[0;31m \u001b[0mm2\u001b[0m\u001b[0;34m.\u001b[0m\u001b[0mgroup\u001b[0m\u001b[0;34m(\u001b[0m\u001b[0;34m)\u001b[0m \u001b[0;31m# Oh you silly 'Nonetype' errors\u001b[0m\u001b[0;34m\u001b[0m\u001b[0m\n\u001b[0m",
            "\u001b[0;31mAttributeError\u001b[0m: 'NoneType' object has no attribute 'group'"
          ]
        }
      ]
    },
    {
      "cell_type": "markdown",
      "metadata": {
        "id": "FzGGMrsbwpno",
        "colab_type": "text"
      },
      "source": [
        "## Solution 1\n",
        "\n",
        "Always check for `None`"
      ]
    },
    {
      "cell_type": "code",
      "metadata": {
        "id": "Pgz-XVaOwpno",
        "colab_type": "code",
        "colab": {}
      },
      "source": [
        "m2.group() if m2 else None"
      ],
      "execution_count": null,
      "outputs": []
    },
    {
      "cell_type": "markdown",
      "metadata": {
        "id": "jckGE9l7wpnr",
        "colab_type": "text"
      },
      "source": [
        "## Solution 2\n",
        "\n",
        "Learn about the [`Maybe` monad](https://en.wikipedia.org/wiki/Monad_(functional_programming)#An_example:_Maybe). (We will tackle this in a later chapter.)"
      ]
    },
    {
      "cell_type": "markdown",
      "metadata": {
        "id": "ixfCst1gwpns",
        "colab_type": "text"
      },
      "source": [
        "## Python regex methods\n",
        "\n",
        "<table class=\"docutils\" border=\"1\">\n",
        "<colgroup>\n",
        "<col width=\"28%\">\n",
        "<col width=\"72%\">\n",
        "</colgroup>\n",
        "<thead valign=\"bottom\">\n",
        "<tr class=\"row-odd\"><th class=\"head\">Method/Attribute</th>\n",
        "<th class=\"head\">Purpose</th>\n",
        "</tr>\n",
        "</thead>\n",
        "<tbody valign=\"top\">\n",
        "<tr class=\"row-even\"><td><code class=\"docutils literal notranslate\"><span class=\"pre\">match()</span></code></td>\n",
        "<td>Determine if the RE matches at the beginning\n",
        "of the string.</td>\n",
        "</tr>\n",
        "<tr class=\"row-odd\"><td><code class=\"docutils literal notranslate\"><span class=\"pre\">search()</span></code></td>\n",
        "<td>Scan through a string, looking for any\n",
        "location where this RE matches.</td>\n",
        "</tr>\n",
        "<tr class=\"row-even\"><td><code class=\"docutils literal notranslate\"><span class=\"pre\">findall()</span></code></td>\n",
        "<td>Find all substrings where the RE matches, and\n",
        "returns them as a list.</td>\n",
        "</tr>\n",
        "<tr class=\"row-odd\"><td><code class=\"docutils literal notranslate\"><span class=\"pre\">finditer()</span></code></td>\n",
        "<td>Find all substrings where the RE matches, and\n",
        "returns them as an <a class=\"reference internal\" href=\"../glossary.html#term-iterator\"><span class=\"xref std std-term\">iterator</span></a>.</td>\n",
        "</tr>\n",
        "</tbody>\n",
        "</table>\n",
        "\n",
        "**Source:** [Python documentation](https://docs.python.org/3/howto/regex.html)"
      ]
    },
    {
      "cell_type": "markdown",
      "metadata": {
        "id": "t0t4JkHbwpns",
        "colab_type": "text"
      },
      "source": [
        "## A better `str.replace`\n",
        "\n",
        "* Often chain many `replace` calls\n",
        "* Example `s.replace('(', '').replace(')','').replace(':', '')`\n",
        "* We can use `re.sub` to simplify."
      ]
    },
    {
      "cell_type": "code",
      "metadata": {
        "id": "68TpCZsewpnt",
        "colab_type": "code",
        "colab": {
          "base_uri": "https://localhost:8080/",
          "height": 35
        },
        "outputId": "5aed5d21-02b2-4d72-aca1-efbe28d17887"
      },
      "source": [
        "s = \"The string (has) some: things in (it).\"\n",
        "s.replace('(', '').replace(')','').replace(':', '')"
      ],
      "execution_count": 30,
      "outputs": [
        {
          "output_type": "execute_result",
          "data": {
            "application/vnd.google.colaboratory.intrinsic+json": {
              "type": "string"
            },
            "text/plain": [
              "'The string has some things in it.'"
            ]
          },
          "metadata": {
            "tags": []
          },
          "execution_count": 30
        }
      ]
    },
    {
      "cell_type": "code",
      "metadata": {
        "id": "ku20Zznhwpnw",
        "colab_type": "code",
        "colab": {
          "base_uri": "https://localhost:8080/",
          "height": 35
        },
        "outputId": "9eb056f8-3631-4cd9-a521-fe71ccbcd246"
      },
      "source": [
        "re.sub(r\"[():]\", '', s)"
      ],
      "execution_count": 31,
      "outputs": [
        {
          "output_type": "execute_result",
          "data": {
            "application/vnd.google.colaboratory.intrinsic+json": {
              "type": "string"
            },
            "text/plain": [
              "'The string has some things in it.'"
            ]
          },
          "metadata": {
            "tags": []
          },
          "execution_count": 31
        }
      ]
    },
    {
      "cell_type": "markdown",
      "metadata": {
        "id": "CRf67YEpwpnz",
        "colab_type": "text"
      },
      "source": [
        "## Substitutions with a compiled RegEx\n",
        "\n",
        "1. Compile a pattern\n",
        "2. Use `pat.sub(new_substr, s)`"
      ]
    },
    {
      "cell_type": "code",
      "metadata": {
        "id": "ZsmG4u6Vwpn0",
        "colab_type": "code",
        "colab": {},
        "outputId": "bb449c32-be21-4128-abc3-52fedac2d140"
      },
      "source": [
        "paren_or_colon = re.compile(r\"[():]\")\n",
        "paren_or_colon.sub('', s)"
      ],
      "execution_count": null,
      "outputs": [
        {
          "output_type": "execute_result",
          "data": {
            "text/plain": [
              "'The string has some things in it'"
            ]
          },
          "metadata": {
            "tags": []
          },
          "execution_count": 9
        }
      ]
    },
    {
      "cell_type": "markdown",
      "metadata": {
        "id": "1s1Kd2bcwpn5",
        "colab_type": "text"
      },
      "source": [
        "## <font color=\"red\"> Exercise 4 </font>\n",
        "\n",
        "**Task:** Write and test a function that uses `re.sub` to remove all punctuation from a string.  **Hint:** Use the `punctuation` variable from the `string` module."
      ]
    },
    {
      "cell_type": "code",
      "metadata": {
        "id": "5eCRNfjewpn5",
        "colab_type": "code",
        "colab": {
          "base_uri": "https://localhost:8080/",
          "height": 35
        },
        "outputId": "0520e37f-eb1c-4de1-c546-efe909a8887e"
      },
      "source": [
        "t = \"Testing this sentence.\"\n",
        "re.sub(r\"[.:]\", '', t)"
      ],
      "execution_count": 34,
      "outputs": [
        {
          "output_type": "execute_result",
          "data": {
            "application/vnd.google.colaboratory.intrinsic+json": {
              "type": "string"
            },
            "text/plain": [
              "'Testing this sentence'"
            ]
          },
          "metadata": {
            "tags": []
          },
          "execution_count": 34
        }
      ]
    },
    {
      "cell_type": "markdown",
      "metadata": {
        "id": "xpc9CFdLwpn8",
        "colab_type": "text"
      },
      "source": [
        "## Next Up\n",
        "\n",
        "Now you should read through the rest of [RegExOne](https://regexone.com/) and put your work in [Lab 3](./lab_3_regexone.ipynb)."
      ]
    },
    {
      "cell_type": "code",
      "metadata": {
        "id": "EYBgDWf18sgI",
        "colab_type": "code",
        "colab": {
          "base_uri": "https://localhost:8080/",
          "height": 34
        },
        "outputId": "8bc79564-e2d2-46d7-be41-d599ebe018b8"
      },
      "source": [
        "123"
      ],
      "execution_count": 10,
      "outputs": [
        {
          "output_type": "execute_result",
          "data": {
            "text/plain": [
              "123"
            ]
          },
          "metadata": {
            "tags": []
          },
          "execution_count": 10
        }
      ]
    },
    {
      "cell_type": "code",
      "metadata": {
        "id": "KRVotg1j9BQh",
        "colab_type": "code",
        "colab": {
          "base_uri": "https://localhost:8080/",
          "height": 129
        },
        "outputId": "4bf82317-7a49-41a5-95bc-6c73140109fe"
      },
      "source": [
        "\\."
      ],
      "execution_count": 13,
      "outputs": [
        {
          "output_type": "error",
          "ename": "SyntaxError",
          "evalue": "ignored",
          "traceback": [
            "\u001b[0;36m  File \u001b[0;32m\"<ipython-input-13-7f40652be67e>\"\u001b[0;36m, line \u001b[0;32m1\u001b[0m\n\u001b[0;31m    \\.\u001b[0m\n\u001b[0m      ^\u001b[0m\n\u001b[0;31mSyntaxError\u001b[0m\u001b[0;31m:\u001b[0m unexpected character after line continuation character\n"
          ]
        }
      ]
    },
    {
      "cell_type": "code",
      "metadata": {
        "id": "Rr2x8vOW91hs",
        "colab_type": "code",
        "colab": {
          "base_uri": "https://localhost:8080/",
          "height": 163
        },
        "outputId": "ce1cc826-67c8-437e-9d0a-dac9d3f69059"
      },
      "source": [
        "[cmf]"
      ],
      "execution_count": 14,
      "outputs": [
        {
          "output_type": "error",
          "ename": "NameError",
          "evalue": "ignored",
          "traceback": [
            "\u001b[0;31m---------------------------------------------------------------------------\u001b[0m",
            "\u001b[0;31mNameError\u001b[0m                                 Traceback (most recent call last)",
            "\u001b[0;32m<ipython-input-14-08d3b6ff2db3>\u001b[0m in \u001b[0;36m<module>\u001b[0;34m()\u001b[0m\n\u001b[0;32m----> 1\u001b[0;31m \u001b[0;34m[\u001b[0m\u001b[0mcmf\u001b[0m\u001b[0;34m]\u001b[0m\u001b[0;34m\u001b[0m\u001b[0;34m\u001b[0m\u001b[0m\n\u001b[0m",
            "\u001b[0;31mNameError\u001b[0m: name 'cmf' is not defined"
          ]
        }
      ]
    },
    {
      "cell_type": "code",
      "metadata": {
        "id": "kV5WDJ_r-p3I",
        "colab_type": "code",
        "colab": {
          "base_uri": "https://localhost:8080/",
          "height": 129
        },
        "outputId": "5ad19111-31bb-4b48-a041-482e335a3a00"
      },
      "source": [
        "[^b]og"
      ],
      "execution_count": 15,
      "outputs": [
        {
          "output_type": "error",
          "ename": "SyntaxError",
          "evalue": "ignored",
          "traceback": [
            "\u001b[0;36m  File \u001b[0;32m\"<ipython-input-15-cdc70d3a8db0>\"\u001b[0;36m, line \u001b[0;32m1\u001b[0m\n\u001b[0;31m    [^b]og\u001b[0m\n\u001b[0m     ^\u001b[0m\n\u001b[0;31mSyntaxError\u001b[0m\u001b[0;31m:\u001b[0m invalid syntax\n"
          ]
        }
      ]
    },
    {
      "cell_type": "code",
      "metadata": {
        "id": "MwlgjIj6_KaL",
        "colab_type": "code",
        "colab": {
          "base_uri": "https://localhost:8080/",
          "height": 163
        },
        "outputId": "2f8cb8ec-c6f4-46e3-f50d-e53b0d4480af"
      },
      "source": [
        "[A-C]"
      ],
      "execution_count": 16,
      "outputs": [
        {
          "output_type": "error",
          "ename": "NameError",
          "evalue": "ignored",
          "traceback": [
            "\u001b[0;31m---------------------------------------------------------------------------\u001b[0m",
            "\u001b[0;31mNameError\u001b[0m                                 Traceback (most recent call last)",
            "\u001b[0;32m<ipython-input-16-846283c156ff>\u001b[0m in \u001b[0;36m<module>\u001b[0;34m()\u001b[0m\n\u001b[0;32m----> 1\u001b[0;31m \u001b[0;34m[\u001b[0m\u001b[0mA\u001b[0m\u001b[0;34m-\u001b[0m\u001b[0mC\u001b[0m\u001b[0;34m]\u001b[0m\u001b[0;34m\u001b[0m\u001b[0;34m\u001b[0m\u001b[0m\n\u001b[0m",
            "\u001b[0;31mNameError\u001b[0m: name 'A' is not defined"
          ]
        }
      ]
    },
    {
      "cell_type": "code",
      "metadata": {
        "id": "HElA6_wBFa2X",
        "colab_type": "code",
        "colab": {
          "base_uri": "https://localhost:8080/",
          "height": 129
        },
        "outputId": "c01a300c-c409-4410-d3ae-9d667fc876f1"
      },
      "source": [
        "z{3,5}"
      ],
      "execution_count": 17,
      "outputs": [
        {
          "output_type": "error",
          "ename": "SyntaxError",
          "evalue": "ignored",
          "traceback": [
            "\u001b[0;36m  File \u001b[0;32m\"<ipython-input-17-a7ab1fc21267>\"\u001b[0;36m, line \u001b[0;32m1\u001b[0m\n\u001b[0;31m    z{3,5}\u001b[0m\n\u001b[0m     ^\u001b[0m\n\u001b[0;31mSyntaxError\u001b[0m\u001b[0;31m:\u001b[0m invalid syntax\n"
          ]
        }
      ]
    },
    {
      "cell_type": "code",
      "metadata": {
        "id": "hsfVa1nuF5si",
        "colab_type": "code",
        "colab": {
          "base_uri": "https://localhost:8080/",
          "height": 163
        },
        "outputId": "9e02b70f-0f36-44f7-93ba-7805ef094466"
      },
      "source": [
        "a+[bc]"
      ],
      "execution_count": 18,
      "outputs": [
        {
          "output_type": "error",
          "ename": "NameError",
          "evalue": "ignored",
          "traceback": [
            "\u001b[0;31m---------------------------------------------------------------------------\u001b[0m",
            "\u001b[0;31mNameError\u001b[0m                                 Traceback (most recent call last)",
            "\u001b[0;32m<ipython-input-18-a4159b70fb5b>\u001b[0m in \u001b[0;36m<module>\u001b[0;34m()\u001b[0m\n\u001b[0;32m----> 1\u001b[0;31m \u001b[0ma\u001b[0m\u001b[0;34m+\u001b[0m\u001b[0;34m[\u001b[0m\u001b[0mbc\u001b[0m\u001b[0;34m]\u001b[0m\u001b[0;34m\u001b[0m\u001b[0;34m\u001b[0m\u001b[0m\n\u001b[0m",
            "\u001b[0;31mNameError\u001b[0m: name 'a' is not defined"
          ]
        }
      ]
    },
    {
      "cell_type": "code",
      "metadata": {
        "id": "nssMZLjoHdEY",
        "colab_type": "code",
        "colab": {
          "base_uri": "https://localhost:8080/",
          "height": 34
        },
        "outputId": "9223490a-d3be-4f31-89be-6be7bbcbc6e0"
      },
      "source": [
        "\\d+ files? found?"
      ],
      "execution_count": 19,
      "outputs": [
        {
          "output_type": "stream",
          "text": [
            "Object `found` not found.\n"
          ],
          "name": "stdout"
        }
      ]
    },
    {
      "cell_type": "code",
      "metadata": {
        "id": "YFSL7MKIIsF2",
        "colab_type": "code",
        "colab": {
          "base_uri": "https://localhost:8080/",
          "height": 129
        },
        "outputId": "c150d297-b80f-43cb-d9e9-f6fb7f8476d8"
      },
      "source": [
        "\\s+"
      ],
      "execution_count": 20,
      "outputs": [
        {
          "output_type": "error",
          "ename": "SyntaxError",
          "evalue": "ignored",
          "traceback": [
            "\u001b[0;36m  File \u001b[0;32m\"<ipython-input-20-44ac81cc8493>\"\u001b[0;36m, line \u001b[0;32m1\u001b[0m\n\u001b[0;31m    \\s+\u001b[0m\n\u001b[0m       ^\u001b[0m\n\u001b[0;31mSyntaxError\u001b[0m\u001b[0;31m:\u001b[0m unexpected character after line continuation character\n"
          ]
        }
      ]
    },
    {
      "cell_type": "code",
      "metadata": {
        "id": "OG18SPBiKuFs",
        "colab_type": "code",
        "colab": {
          "base_uri": "https://localhost:8080/",
          "height": 129
        },
        "outputId": "19d1dd63-77f8-4ef5-e02f-59b50ae7f029"
      },
      "source": [
        "^Mission"
      ],
      "execution_count": 21,
      "outputs": [
        {
          "output_type": "error",
          "ename": "SyntaxError",
          "evalue": "ignored",
          "traceback": [
            "\u001b[0;36m  File \u001b[0;32m\"<ipython-input-21-4b1633fea730>\"\u001b[0;36m, line \u001b[0;32m1\u001b[0m\n\u001b[0;31m    ^Mission\u001b[0m\n\u001b[0m    ^\u001b[0m\n\u001b[0;31mSyntaxError\u001b[0m\u001b[0;31m:\u001b[0m invalid syntax\n"
          ]
        }
      ]
    },
    {
      "cell_type": "code",
      "metadata": {
        "id": "PXqI5jhiL7f4",
        "colab_type": "code",
        "colab": {
          "base_uri": "https://localhost:8080/",
          "height": 129
        },
        "outputId": "e69b4edc-b73d-409f-bfeb-08b91d87b9b1"
      },
      "source": [
        "^(file.+)\\.pdf$"
      ],
      "execution_count": 22,
      "outputs": [
        {
          "output_type": "error",
          "ename": "SyntaxError",
          "evalue": "ignored",
          "traceback": [
            "\u001b[0;36m  File \u001b[0;32m\"<ipython-input-22-714da06c80e0>\"\u001b[0;36m, line \u001b[0;32m1\u001b[0m\n\u001b[0;31m    ^(file.+)\\.pdf$\u001b[0m\n\u001b[0m    ^\u001b[0m\n\u001b[0;31mSyntaxError\u001b[0m\u001b[0;31m:\u001b[0m invalid syntax\n"
          ]
        }
      ]
    },
    {
      "cell_type": "code",
      "metadata": {
        "id": "V5X-9lamM9xv",
        "colab_type": "code",
        "colab": {
          "base_uri": "https://localhost:8080/",
          "height": 129
        },
        "outputId": "d253deb3-f8fd-44dc-bd1f-7c614983b591"
      },
      "source": [
        "(\\w+ (\\d+))"
      ],
      "execution_count": 23,
      "outputs": [
        {
          "output_type": "error",
          "ename": "SyntaxError",
          "evalue": "ignored",
          "traceback": [
            "\u001b[0;36m  File \u001b[0;32m\"<ipython-input-23-dc1d89bbfd60>\"\u001b[0;36m, line \u001b[0;32m1\u001b[0m\n\u001b[0;31m    (\\w+ (\\d+))\u001b[0m\n\u001b[0m               ^\u001b[0m\n\u001b[0;31mSyntaxError\u001b[0m\u001b[0;31m:\u001b[0m unexpected character after line continuation character\n"
          ]
        }
      ]
    },
    {
      "cell_type": "code",
      "metadata": {
        "id": "Rd87RbqnOgR4",
        "colab_type": "code",
        "colab": {
          "base_uri": "https://localhost:8080/",
          "height": 129
        },
        "outputId": "d82e66e8-4666-4e9a-baf8-98575bcb6773"
      },
      "source": [
        "(\\d{4})x(\\d+)"
      ],
      "execution_count": 24,
      "outputs": [
        {
          "output_type": "error",
          "ename": "SyntaxError",
          "evalue": "ignored",
          "traceback": [
            "\u001b[0;36m  File \u001b[0;32m\"<ipython-input-24-b5acf460cb67>\"\u001b[0;36m, line \u001b[0;32m1\u001b[0m\n\u001b[0;31m    (\\d{4})x(\\d+)\u001b[0m\n\u001b[0m                 ^\u001b[0m\n\u001b[0;31mSyntaxError\u001b[0m\u001b[0;31m:\u001b[0m unexpected character after line continuation character\n"
          ]
        }
      ]
    },
    {
      "cell_type": "code",
      "metadata": {
        "id": "FDjS95TjPc42",
        "colab_type": "code",
        "colab": {
          "base_uri": "https://localhost:8080/",
          "height": 163
        },
        "outputId": "8ec5e427-8201-4834-fff0-2a024b978ee6"
      },
      "source": [
        "(cats|dogs)"
      ],
      "execution_count": 25,
      "outputs": [
        {
          "output_type": "error",
          "ename": "NameError",
          "evalue": "ignored",
          "traceback": [
            "\u001b[0;31m---------------------------------------------------------------------------\u001b[0m",
            "\u001b[0;31mNameError\u001b[0m                                 Traceback (most recent call last)",
            "\u001b[0;32m<ipython-input-25-16c2b58c56c5>\u001b[0m in \u001b[0;36m<module>\u001b[0;34m()\u001b[0m\n\u001b[0;32m----> 1\u001b[0;31m \u001b[0;34m(\u001b[0m\u001b[0mcats\u001b[0m\u001b[0;34m|\u001b[0m\u001b[0mdogs\u001b[0m\u001b[0;34m)\u001b[0m\u001b[0;34m\u001b[0m\u001b[0;34m\u001b[0m\u001b[0m\n\u001b[0m",
            "\u001b[0;31mNameError\u001b[0m: name 'cats' is not defined"
          ]
        }
      ]
    },
    {
      "cell_type": "code",
      "metadata": {
        "id": "loF2Np1IQCFN",
        "colab_type": "code",
        "colab": {
          "base_uri": "https://localhost:8080/",
          "height": 129
        },
        "outputId": "8370c752-5b39-4124-cbcb-a6688939b7fd"
      },
      "source": [
        "\\b"
      ],
      "execution_count": 26,
      "outputs": [
        {
          "output_type": "error",
          "ename": "SyntaxError",
          "evalue": "ignored",
          "traceback": [
            "\u001b[0;36m  File \u001b[0;32m\"<ipython-input-26-cb17659939f7>\"\u001b[0;36m, line \u001b[0;32m1\u001b[0m\n\u001b[0;31m    \\b\u001b[0m\n\u001b[0m      ^\u001b[0m\n\u001b[0;31mSyntaxError\u001b[0m\u001b[0;31m:\u001b[0m unexpected character after line continuation character\n"
          ]
        }
      ]
    },
    {
      "cell_type": "markdown",
      "metadata": {
        "id": "AlYIm17kQm4l",
        "colab_type": "text"
      },
      "source": [
        "![regexp.png](data:image/png;base64,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)"
      ]
    }
  ]
}